{
 "cells": [
  {
   "cell_type": "markdown",
   "metadata": {},
   "source": [
    "# Johdanto datatieteeseen 2020 oppimispäiväkirja"
   ]
  },
  {
   "cell_type": "markdown",
   "metadata": {},
   "source": [
    "### <span style=\"color:rgb(0, 83, 92)\">Luentoviikko 1: Johdanto aihepiiriin ja suorittaminen</span>\n",
    "\n",
    "Katsoin viikon luennon ja demon tallenteet. Aineistona käytän kyseisten tallenteiden jupyter notebookkeja ja internettiä yleisesti.\n",
    "\n",
    "Ensimmäisen viikon aiheena oli kurssin yleisten ohjeiden ja datatieteen perusteiden läpikäymistä. Viikolla puhuttiin myös datatieteen tärkeydestä ja merkityksestä organisaatioiden päätöksenteossa.\n",
    "\n",
    "Luennon alussa näytettiin kuva \"The Data Scientist Venn Diagram\", josta näkyy datatieteilijän tärkeimmät ominaisuudet. Kuva on tehty pilke silmäkulmassa, mutta kuvaa silti hyvinkin osuvasti tämän päivän datatieteilijän tärkeimmät ominaisuudet. Kuvan listaamat ominaisuudet ovat kommunikaatio, statistiikka, ohjelmointi ja bisnes. \n",
    "\n",
    "Kommunikaatio taitoja tarvitaan, jotta kykenee tehokkaasti perustelemaan itseään hierarkiassa korkeammalla oleville että minkälaisia päätöksiä kannattaisi dataan perustuen tehdä. Perustelussa auttaa hyvät sosiaaliset taidot sekä visualisointi. Kommunikaatiotaitoja tarvitaan myös siihen että kykenee toimimaan hyvin ryhmässä, koska monissa yrityksissä on omat tiiminsä datatiedettä varten. Statistiikka osaamista tarvitaan, jotta ymmärtää mitkä asiat datassa ovat oikeasti tärkeitä ja minkälaista dataa kannattaisi analysoida.\n",
    "\n",
    "Ohjelmointiosaaminen on myös välttämätöntä, koska datan määrä on kasvanut niin suureksi että sen läpikäyminen ei onnistu millään muulla tavalla kuin ohjelmilla ja tietokoneilla. Ohjelmointia on siis pakko osata, jotta saa tietokoneen tekemään oikeita asioita. Lisäksi hyvä datatieteilijä tarvitsee bisnesosaamista, koska raha ja tuottavuus on kuitenkin viime kädessä aina se tärkein syy yrityksen olemassaololle. On siis hyvä tietää perusjutut taloudesta ja liiketoiminnasta, jotta osaa parhaalla mahdollisella tavalla kerätä ja jalostaa dataa yrityksen liiketoiminnan tukemiseksi."
   ]
  },
  {
   "cell_type": "markdown",
   "metadata": {},
   "source": [
    "### <span style=\"color:rgb(0, 83, 92)\">Demo sessio</span>\n",
    "\n",
    "Viikon demossa käytiin läpi perus juttuja datan käsittelystä pandasin dataframeilla. Dataframet ovat tehokas tapa tallentaa ja muokata suuria määriä dataa. Pandasin avulla valittujen sarakkeiden kaikille alkioille voidaan kohdentaa vaikka itse tehtyjä funktioita, niin että funktio ajetaan vuorollaan jokaiselle alkiolle. Tämä antaa todella suuria mahdollisuuksia muokata dataa juuri tarvitsemallaan tavalla.\n",
    "\n",
    "URL:n kautta on todella suoraviivaista ja helppoa ladata vaikka CSV-tiedosto ja saada se heti käyttöön pandasin dataframeen. Opin myös käyttämään Jupyter notebookkeja ja laittamaan ajettavaa koodia niihin. Tässä esimerkki, jossa lataan Sacramento nimisen kaupungin rikoksiin liittyvää dataa ja printtaan datan attribuutit eli sarakkeiden nimet:"
   ]
  },
  {
   "cell_type": "code",
   "execution_count": null,
   "metadata": {},
   "outputs": [],
   "source": [
    "import pandas as pd\n",
    "url = 'http://samplecsvs.s3.amazonaws.com/SacramentocrimeJanuary2006.csv'\n",
    "orig_df = pd.read_csv(url)\n",
    "print('List of attributes:', orig_df.columns.values.tolist())"
   ]
  },
  {
   "cell_type": "markdown",
   "metadata": {},
   "source": [
    "### <span style=\"color:rgb(0, 83, 92)\">Oivalluksia</span>\n",
    "\n",
    "* Datatieteilijän arjesta noin 80% ajasta menee datan puhdistukseen ja sanitointiin. Tämä kuulostaa hieman tylsältä, koska datan puhdistus ei ole sitä itseään\n",
    "\n",
    "* Pythonin tärkeys datan käsittelyssä on viime vuosina noussut huimasti vaikka se ei olekaan näin suoritustehokkuus näkökulmasta kovin tehokas kieli. Mutta Python on kuitenkin nopeata kirjoittaa ja sillä saa pienellä vaivalla muokattua dataa nopeasti oikeaan muotoon, koska siitä löytyy todella laajat kirjastot\n",
    "\n",
    "* Datan tärkeys on viime vuosina kasvanut räjähdysmäisesti ja todella usean megayrityksen liiketoiminta on mahdollista vain heidän käytössään olevan datansa ansiosta. Data ja sen tehokas käyttö onkin nykyään erittäin suuressa roolissa yrityksen arvon tuottamisessa asikkaille\n",
    "\n",
    "* Opin käyttämään Jupyter notebookkeja ja laittamaan niihin ajettavaa Python koodia\n",
    "\n",
    "* Dataframet muistuttavat hyvin paljon relaatiotietokannan tauluja ja voisin kuvitella että tietokannoista on helppo lukea dataa suoraan pandasin dataframeen"
   ]
  },
  {
   "cell_type": "markdown",
   "metadata": {},
   "source": [
    "### <span style=\"color:rgb(0, 83, 92)\">Kehityskohteita</span>\n",
    "\n",
    "* Jäi hieman epäselväksi että miksi tämän päivän trendi on pois tilasto-ohjelmista ja kohti ohjelmointikieliä. Mitkä ovat ohjelmointikielien suurimmat edut verrattuna tilasto-ohjelmiin?\n",
    "\n",
    "* Millä tavalla ja mihin oppimispäiväkirja Jupyter notebookit tulisi tallentaa? Onko ok tallentaa ne .ipynd päätteisinä tiedostoina vaikka GitHubiin ja jakaa GitHub linkki tarkastajalle?"
   ]
  }
 ],
 "metadata": {
  "kernelspec": {
   "display_name": "Python 3",
   "language": "python",
   "name": "python3"
  },
  "language_info": {
   "codemirror_mode": {
    "name": "ipython",
    "version": 3
   },
   "file_extension": ".py",
   "mimetype": "text/x-python",
   "name": "python",
   "nbconvert_exporter": "python",
   "pygments_lexer": "ipython3",
   "version": "3.7.6"
  }
 },
 "nbformat": 4,
 "nbformat_minor": 4
}
